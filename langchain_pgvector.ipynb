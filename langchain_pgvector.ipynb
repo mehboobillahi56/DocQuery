{
 "cells": [
  {
   "cell_type": "code",
   "execution_count": 5,
   "metadata": {},
   "outputs": [],
   "source": [
    "## if 1st time uncomment below installation \n",
    "# !pip install -U sentence-transformers\n",
    "# !pip install langchain openai python-dotenv\n",
    "# !pip install psycopg2-binary pgvector\n",
    "# !pip install -U langchain-community\n",
    "# !pip install fastapi\n",
    "# !pip install uvicorn\n",
    "\n",
    "\n",
    "\n",
    "## imoprting all the neccessary  files \n",
    "from sentence_transformers import SentenceTransformer\n",
    "from langchain.document_loaders import TextLoader\n",
    "from langchain_community.document_loaders import PyPDFLoader\n",
    "from langchain.text_splitter import RecursiveCharacterTextSplitter\n",
    "import psycopg2\n",
    "from dotenv import load_dotenv\n",
    "import os\n",
    "from fastapi import FastAPI\n",
    "app =  FastAPI()"
   ]
  },
  {
   "cell_type": "code",
   "execution_count": 2,
   "metadata": {},
   "outputs": [
    {
     "name": "stderr",
     "output_type": "stream",
     "text": [
      "/home/illahi/.local/lib/python3.10/site-packages/huggingface_hub/file_download.py:1132: FutureWarning: `resume_download` is deprecated and will be removed in version 1.0.0. Downloads always resume when possible. If you want to force a new download, use `force_download=True`.\n",
      "  warnings.warn(\n"
     ]
    },
    {
     "name": "stdout",
     "output_type": "stream",
     "text": [
      "Database connection established.\n"
     ]
    }
   ],
   "source": [
    "#\n",
    "load_dotenv()\n",
    "\n",
    "embeddingsmodel = SentenceTransformer(\"all-MiniLM-L6-v2\")\n",
    "\n",
    "def getembeddings(sentences, print_flag=True):\n",
    "    # Sentences are encoded by calling model.encode()\n",
    "    embeddings = embeddingsmodel.encode(sentences)\n",
    "\n",
    "    if print_flag:\n",
    "        # Print the embeddings\n",
    "        for sentence, embedding in zip(sentences, embeddings):\n",
    "            print(\"Sentence:\", sentence)\n",
    "            # Print a summary of the embedding instead of the full embedding\n",
    "            print(\"Embedding\", embedding)\n",
    "            print(\"\")\n",
    "\n",
    "    return embeddings\n",
    "\n",
    "\n",
    "#  database connection details\n",
    "host = os.getenv('DB_HOST')\n",
    "dbname = os.getenv('DB_NAME')\n",
    "user =  os.getenv('DB_USER')\n",
    "password = os.getenv('DB_PASSWORD')\n",
    "\n",
    "try:\n",
    "    connection = psycopg2.connect(dbname=dbname, user=user, password=password, host=host)\n",
    "    print(\"Database connection established.\")\n",
    "except Exception as e:\n",
    "    print(f\"Failed to connect to the database: {e}\")\n"
   ]
  },
  {
   "cell_type": "code",
   "execution_count": 11,
   "metadata": {},
   "outputs": [
    {
     "name": "stdout",
     "output_type": "stream",
     "text": [
      "page_content='Lorem ipsum \\nLorem ipsum dolor sit amet, consectetur adipiscing \\nelit. Nunc ac faucibus odio. \\nVestibulum neque massa, scelerisque sit amet ligula eu, congue molestie mi. Praesent ut\\nvarius sem. Nullam at porttitor arcu, nec lacinia nisi. Ut ac dolor vitae odio interdum\\ncondimentum.  Vivamus  dapibus  sodales  ex,  vitae  malesuada  ipsum  cursus\\nconvallis. Maecenas sed egestas nulla, ac condimentum orci.  Mauris diam felis,\\nvulputate ac suscipit et, iaculis non est. Curabitur semper arcu ac ligula semper, nec luctus\\nnisl blandit. Integer lacinia ante ac libero lobortis imperdiet. Nullam mollis convallis ipsum,\\nac accumsan nunc vehicula vitae. Nulla eget justo in felis tristique fringilla. Morbi sit amet\\ntortor quis risus auctor condimentum. Morbi in ullamcorper elit. Nulla iaculis tellus sit amet\\nmauris tempus fringilla.\\nMaecenas mauris lectus, lobortis et purus mattis, blandit dictum tellus.\\n\\uf0b7Maecenas non lorem quis tellus placerat varius. \\n\\uf0b7Nulla facilisi. \\n\\uf0b7Aenean congue fringilla justo ut aliquam. \\n\\uf0b7Mauris id ex erat. Nunc vulputate neque vitae justo facilisis, non condimentum ante\\nsagittis. \\n\\uf0b7Morbi viverra semper lorem nec molestie. \\n\\uf0b7Maecenas tincidunt est efficitur ligula euismod, sit amet ornare est vulputate.\\nRow 1Row 2Row 3Row 4024681012\\nColumn 1\\nColumn 2\\nColumn 3' metadata={'source': '/home/illahi/Downloads/Matthew.pdf', 'page': 0}\n",
      "[Document(page_content='Lorem ipsum \\nLorem ipsum dolor sit amet, consectetur adipiscing \\nelit. Nunc ac faucibus odio. \\nVestibulum neque massa, scelerisque sit amet ligula eu, congue molestie mi. Praesent ut\\nvarius sem. Nullam at porttitor arcu, nec lacinia nisi. Ut ac dolor vitae odio interdum\\ncondimentum.  Vivamus  dapibus  sodales  ex,  vitae  malesuada  ipsum  cursus\\nconvallis. Maecenas sed egestas nulla, ac condimentum orci.  Mauris diam felis,\\nvulputate ac suscipit et, iaculis non est. Curabitur semper arcu ac ligula semper, nec luctus\\nnisl blandit. Integer lacinia ante ac libero lobortis imperdiet. Nullam mollis convallis ipsum,\\nac accumsan nunc vehicula vitae. Nulla eget justo in felis tristique fringilla. Morbi sit amet\\ntortor quis risus auctor condimentum. Morbi in ullamcorper elit. Nulla iaculis tellus sit amet\\nmauris tempus fringilla.\\nMaecenas mauris lectus, lobortis et purus mattis, blandit dictum tellus.\\n\\uf0b7Maecenas non lorem quis tellus placerat varius. \\n\\uf0b7Nulla facilisi. \\n\\uf0b7Aenean congue fringilla justo ut aliquam. \\n\\uf0b7Mauris id ex erat. Nunc vulputate neque vitae justo facilisis, non condimentum ante\\nsagittis. \\n\\uf0b7Morbi viverra semper lorem nec molestie. \\n\\uf0b7Maecenas tincidunt est efficitur ligula euismod, sit amet ornare est vulputate.\\nRow 1Row 2Row 3Row 4024681012\\nColumn 1\\nColumn 2\\nColumn 3', metadata={'source': '/home/illahi/Downloads/Matthew.pdf', 'page': 0}), Document(page_content='In non mauris justo. Duis vehicula mi vel mi pretium, a viverra erat efficitur. Cras aliquam\\nest ac eros varius, id iaculis dui auctor. Duis pretium neque ligula, et pulvinar mi placerat\\net. Nulla nec nunc sit amet nunc posuere vestibulum. Ut id neque eget tortor mattis\\ntristique. Donec ante est, blandit sit amet tristique vel, lacinia pulvinar arcu. Pellentesque\\nscelerisque fermentum erat, id posuere justo pulvinar ut. Cras id eros sed enim aliquam\\nlobortis. Sed lobortis nisl ut eros efficitur tincidunt. Cras justo mi, porttitor quis mattis vel,\\nultricies ut purus. Ut facilisis et lacus eu cursus.\\nIn eleifend velit vitae libero sollicitudin euismod. Fusce vitae vestibulum velit. Pellentesque\\nvulputate lectus quis pellentesque commodo. Aliquam erat volutpat. Vestibulum in egestas\\nvelit. Pellentesque fermentum nisl vitae fringilla venenatis. Etiam id mauris vitae orci\\nmaximus ultricies. \\nCras fringilla ipsum magna, in fringilla dui commodo \\na.\\nLorem ipsum Lorem ipsum Lorem ipsum\\n1 In eleifend velit vitae libero sollicitudin euismod. Lorem\\n2 Cras fringilla ipsum magna, in fringilla dui commodo\\na.Ipsum\\n3 Aliquam erat volutpat. Lorem\\n4 Fusce vitae vestibulum velit. Lorem\\n5 Etiam vehicula luctus fermentum. Ipsum\\nEtiam vehicula luctus fermentum. In vel metus congue, pulvinar lectus vel, fermentum dui.\\nMaecenas ante orci, egestas ut aliquet sit amet, sagittis a magna. Aliquam ante quam,\\npellentesque ut dignissim quis, laoreet eget est. Aliquam erat volutpat. Class aptent taciti\\nsociosqu ad litora torquent per conubia nostra, per inceptos himenaeos. Ut ullamcorper\\njusto sapien, in cursus libero viverra eget. Vivamus auctor imperdiet urna, at pulvinar leo\\nposuere laoreet. Suspendisse neque nisl, fringilla at iaculis scelerisque, ornare vel dolor. Ut\\net  pulvinar  nunc.  Pellentesque  fringilla  mollis  efficitur.  Nullam  venenatis  commodo\\nimperdiet. Morbi velit neque, semper quis lorem quis, efficitur dignissim ipsum. Ut ac lorem\\nsed turpis imperdiet eleifend sit amet id sapien.', metadata={'source': '/home/illahi/Downloads/Matthew.pdf', 'page': 1}), Document(page_content='Lorem ipsum dolor sit amet, consectetur adipiscing \\nelit. \\nNunc ac faucibus odio. Vestibulum neque massa, scelerisque sit amet ligula eu, congue\\nmolestie mi. Praesent ut varius sem. Nullam at porttitor arcu, nec lacinia nisi. Ut ac dolor\\nvitae odio interdum condimentum. Vivamus dapibus sodales ex, vitae malesuada ipsum\\ncursus convallis. Maecenas sed egestas nulla, ac condimentum orci. Mauris diam felis,\\nvulputate ac suscipit et, iaculis non est. Curabitur semper arcu ac ligula semper, nec luctus\\nnisl blandit. Integer lacinia ante ac libero lobortis imperdiet. Nullam mollis convallis ipsum,\\nac accumsan nunc vehicula vitae. Nulla eget justo in felis tristique fringilla. Morbi sit amet\\ntortor quis risus auctor condimentum. Morbi in ullamcorper elit. Nulla iaculis tellus sit amet\\nmauris tempus fringilla.\\nMaecenas mauris lectus, lobortis et purus mattis, blandit \\ndictum tellus. \\nMaecenas non lorem quis tellus placerat varius. Nulla facilisi. Aenean congue fringilla justo\\nut aliquam. Mauris id ex erat. Nunc vulputate neque vitae justo facilisis, non condimentum\\nante sagittis. Morbi viverra semper lorem nec molestie. Maecenas tincidunt est efficitur\\nligula euismod, sit amet ornare est vulputate.\\nIn non mauris justo. Duis vehicula mi vel mi pretium, a viverra erat efficitur. Cras aliquam\\nest ac eros varius, id iaculis dui auctor. Duis pretium neque ligula, et pulvinar mi placerat\\net. Nulla nec nunc sit amet nunc posuere vestibulum. Ut id neque eget tortor mattis\\ntristique. Donec ante est, blandit sit amet tristique vel, lacinia pulvinar arcu. Pellentesque\\nscelerisque fermentum erat, id posuere justo pulvinar ut. Cras id eros sed enim aliquam\\nlobortis. Sed lobortis nisl ut eros efficitur tincidunt. Cras justo mi, porttitor quis mattis vel,\\nultricies ut purus. Ut facilisis et lacus eu cursus.\\nIn eleifend velit vitae libero sollicitudin euismod. \\nFusce vitae vestibulum velit. Pellentesque vulputate lectus quis pellentesque commodo.\\nAliquam erat volutpat. Vestibulum in egestas velit. Pellentesque fermentum nisl vitae\\nfringilla  venenatis.  Etiam  id  mauris  vitae  orci  maximus  ultricies.  Cras  fringilla  ipsum\\nmagna, in fringilla dui commodo a.\\nEtiam vehicula luctus fermentum. In vel metus congue, pulvinar lectus vel, fermentum dui.\\nMaecenas ante orci, egestas ut aliquet sit amet, sagittis a magna. Aliquam ante quam,\\npellentesque ut dignissim quis, laoreet eget est. Aliquam erat volutpat. Class aptent taciti\\nsociosqu ad litora torquent per conubia nostra, per inceptos himenaeos. Ut ullamcorper\\njusto sapien, in cursus libero viverra eget. Vivamus auctor imperdiet urna, at pulvinar leo\\nposuere laoreet. Suspendisse neque nisl, fringilla at iaculis scelerisque, ornare vel dolor. Ut\\net  pulvinar  nunc.  Pellentesque  fringilla  mollis  efficitur.  Nullam  venenatis  commodo\\nimperdiet. Morbi velit neque, semper quis lorem quis, efficitur dignissim ipsum. Ut ac lorem\\nsed turpis imperdiet eleifend sit amet id sapien.', metadata={'source': '/home/illahi/Downloads/Matthew.pdf', 'page': 2})]\n",
      "<generator object <genexpr> at 0x7a1ba3819af0>\n",
      "<class 'langchain_core.documents.base.Document'>\n"
     ]
    },
    {
     "data": {
      "text/plain": [
       "<function print>"
      ]
     },
     "execution_count": 11,
     "metadata": {},
     "output_type": "execute_result"
    }
   ],
   "source": [
    "# loader = TextLoader('state_of_the_union.txt', encoding='utf-8')\n",
    "file_location = '/home/illahi/Downloads/Matthew.pdf'\n",
    "\n",
    "if file_location.endswith('.txt'):\n",
    "    # Create a loader instance for the text file\n",
    "    loader = TextLoader(file_location, encoding='utf-8')\n",
    "    documents = loader.load()\n",
    "else:\n",
    "    # Create a loader instance for the PDF file\n",
    "    loader = PyPDFLoader(file_location)\n",
    "    documents = loader.load_and_split()\n",
    "    print(documents[0])\n",
    "\n",
    "print(documents)\n",
    "\n",
    "# print(documents)  # prints the document objects\n",
    "# print(len(documents))  # 1 - we've only read one file/document into the loader\n",
    "\n",
    "text_splitter = RecursiveCharacterTextSplitter(chunk_size=1000, chunk_overlap=100)\n",
    "texts = text_splitter.split_documents(documents)\n",
    "\n",
    "print(t.page_content for t in texts[0])\n",
    "print(type(texts[0]))\n",
    "print"
   ]
  },
  {
   "cell_type": "code",
   "execution_count": 4,
   "metadata": {},
   "outputs": [
    {
     "name": "stdout",
     "output_type": "stream",
     "text": [
      "384\n",
      "<class 'numpy.ndarray'>\n"
     ]
    }
   ],
   "source": [
    "doc_vectors = getembeddings([t.page_content for t in texts],False)\n",
    "print(len(doc_vectors[0]))  # 5 vectors in the output\n",
    "print(type(doc_vectors[0]))   "
   ]
  },
  {
   "cell_type": "code",
   "execution_count": 6,
   "metadata": {},
   "outputs": [],
   "source": [
    "with connection.cursor() as cursor:\n",
    "    # Construct the SQL INSERT statement\n",
    "    insert_statement = \"\"\"\n",
    "    INSERT INTO embeddings_table (text_data, embeddings) VALUES (%s, %s)\n",
    "    \"\"\"\n",
    "    \n",
    "    # Process each item\n",
    "    for ind, (sentence, embedding) in enumerate(zip(texts, doc_vectors)):\n",
    "        try:\n",
    "            # Data to insert\n",
    "            embedding_value = embedding.tolist()  # Convert numpy array to list\n",
    "            text_value = sentence.page_content  # Make sure 'sentence' has the attribute 'page_content'\n",
    "            \n",
    "            # Execute the SQL command\n",
    "            cursor.execute(insert_statement, (text_value, embedding_value))\n",
    "            \n",
    "        except Exception as e:\n",
    "            print(f\"Failed to insert record {ind}: {e}\")\n",
    "            connection.rollback()  # Rollback the transaction\n",
    "            continue  # Continue with the next record\n",
    "        \n",
    "    connection.commit()  # Commit the transaction\n",
    "#\n",
    "connection.rollback()  # Rollback the transaction\n"
   ]
  },
  {
   "cell_type": "code",
   "execution_count": 12,
   "metadata": {},
   "outputs": [
    {
     "name": "stdout",
     "output_type": "stream",
     "text": [
      "[-0.014311795122921467, 0.10121113806962967, 0.026896808296442032, -0.04116528853774071, 0.014222769066691399, -0.0023053258191794157, -0.026518169790506363, 0.0646955594420433, -0.022763807326555252, 0.03775046020746231, 0.05753549560904503, -0.0366654172539711, -0.05759327486157417, -0.0033083069138228893, 0.010693574324250221, 0.0033677113242447376, 0.012423682026565075, -0.004332914017140865, -0.07366693019866943, -0.029483433812856674, 0.03945855051279068, -0.009361464530229568, -0.025470387190580368, 0.05038619041442871, 0.07336822897195816, 0.06897926330566406, 0.03222593665122986, -0.03285686671733856, -0.016742927953600883, 0.01816936954855919, 0.12629134953022003, 0.007742286194115877, 0.014189207926392555, -0.027896033599972725, 0.023071015253663063, 0.04129417985677719, -0.024385875090956688, 0.030921587720513344, -0.024547072127461433, -0.008407274261116982, 0.016920529305934906, 0.06191729009151459, -0.04269830137491226, -0.024068092927336693, 0.01320003904402256, -0.004283569753170013, -0.036795422434806824, 0.04277023673057556, 0.07843437790870667, 0.08695545792579651, -0.012637217529118061, -0.03466922044754028, -0.016793718561530113, -0.04932992532849312, -0.021851778030395508, -0.03460336849093437, -0.055719975382089615, -0.028746480122208595, -0.015530247241258621, 0.041307512670755386, -0.07472718507051468, -0.029687166213989258, -0.03900359570980072, -0.03668181225657463, 0.010506225749850273, 0.014007976278662682, 0.051513027399778366, 0.00578393554314971, -0.012735401280224323, -0.0036093713715672493, -0.05689963698387146, 0.021682869642972946, 0.01062178984284401, -0.012196172960102558, 0.03291741758584976, 0.033653128892183304, 0.05396448075771332, 0.04980294406414032, 0.037579119205474854, -0.037636589258909225, -0.042643047869205475, -0.008804643526673317, -0.035445041954517365, -0.007840759120881557, -0.03840123862028122, -0.04648180305957794, 0.039499685168266296, -0.01572476699948311, 0.05419037863612175, -0.012557695619761944, 0.024644188582897186, 0.00622609443962574, 0.029558638110756874, -0.012646333314478397, -0.05174177512526512, 0.07379910349845886, -0.06861480325460434, -0.1193898469209671, -0.057700131088495255, -0.00612867996096611, 0.007882426492869854, -0.00782744213938713, 0.04308445006608963, -0.03638296574354172, -0.02114156447350979, -0.08206599950790405, -0.0026509107556194067, 0.035202864557504654, -0.0002543112204875797, -0.0036986686754971743, -0.007321639452129602, -0.029046373441815376, 0.06317668408155441, 0.035522039979696274, 0.017568716779351234, 0.027341553941369057, 0.059218745678663254, 0.012845160439610481, 0.08928970992565155, 0.06427037715911865, 0.014245075173676014, 0.08339234441518784, -0.0219715666025877, 0.012592095881700516, -0.056065138429403305, -0.04355086386203766, -0.09177356213331223, -9.393171482619429e-34, -0.06585820764303207, 0.07876480370759964, 0.02895968221127987, -0.014555144123733044, 0.0025547072291374207, -0.037337273359298706, 0.010047080926597118, 0.05725495144724846, -0.04048074036836624, 0.036166802048683167, 0.05562015250325203, -0.09371960163116455, 0.01951516792178154, 0.043294329196214676, -0.0235441941767931, -0.06688337028026581, -0.030970828607678413, 0.09367591887712479, -0.0328100249171257, 0.08221668004989624, -0.08861582726240158, 0.0015090840170159936, 0.030482124537229538, -0.035881657153367996, 0.04416999593377113, -0.06593762338161469, 0.013387787155807018, -0.060837846249341965, 0.0497184582054615, -0.02489393576979637, 0.012576266191899776, 0.04275103658437729, -0.04713648185133934, -0.07311471551656723, -0.02337728440761566, 0.03762873634696007, 0.02289424277842045, -0.031215611845254898, -0.09937921911478043, -0.021673019975423813, -0.06272071599960327, 0.03501273691654205, 0.021793730556964874, -0.008681800216436386, 0.0668402835726738, -0.07861717790365219, 0.04753666743636131, 0.0033990712836384773, -0.06265079230070114, -0.034650400280952454, -0.09172706305980682, -0.04686141386628151, -0.05534142255783081, -0.01670326106250286, -0.03545377776026726, -0.06101542338728905, 0.027489572763442993, -0.02589196339249611, 0.033482443541288376, 0.0017164781456813216, -0.021086638793349266, -0.15992076694965363, -0.04239129647612572, 0.0657404363155365, -0.044055014848709106, 0.009516015648841858, 0.02883603796362877, 0.02584800310432911, 0.06134333461523056, -0.012155952863395214, -0.014222761616110802, 0.0202749315649271, 0.027693714946508408, 0.03167105093598366, -0.05132043734192848, 0.07730397582054138, 0.0213790126144886, 0.04399390146136284, 0.04120425134897232, -0.01733388938009739, 0.04888596758246422, 0.04959205910563469, 0.05953139066696167, -0.0292428620159626, 0.17062851786613464, 0.02665778622031212, 0.05804317072033882, 0.058770567178726196, -0.05588531494140625, -0.028528815135359764, -0.07064969092607498, -0.0160177294164896, -0.014554232358932495, 0.012431385926902294, 0.056037720292806625, -4.217705873174023e-34, -0.05358239263296127, 0.05801237374544144, 0.08344033360481262, -0.04073123261332512, 0.053437210619449615, -0.08523894846439362, 0.01517791673541069, -0.05359019711613655, 0.06793158501386642, 0.045899488031864166, -0.07150398194789886, 0.04565390944480896, 0.08390472829341888, -0.008497301489114761, -0.05846498906612396, -0.11451104283332825, 0.07656628638505936, -0.07160396128892899, 0.052123766392469406, -0.03234037384390831, -0.13812902569770813, 0.10591757297515869, -0.03271925076842308, 0.09132134169340134, -0.01520316768437624, 0.0016841513570398092, -0.07276212424039841, 0.05784735083580017, -0.015780311077833176, 0.036024026572704315, -0.07441478222608566, -0.03449339047074318, -0.04847639799118042, -0.042063090950250626, 0.0014546307502314448, -0.002428655279800296, -0.042134836316108704, 0.09590859711170197, -0.043395739048719406, -0.012795981019735336, 0.06258349120616913, -0.08112010359764099, -0.03278309851884842, -0.0403796061873436, -0.03689679503440857, -0.04362406209111214, 0.04033327102661133, -0.0037209042347967625, -0.005429429467767477, 0.06264699995517731, -0.03168872743844986, 0.02366008050739765, 0.023349743336439133, 0.06126466765999794, 0.04166693240404129, -0.04866614565253258, 0.13397131860256195, -0.08712257444858551, -0.04037969559431076, -0.017762653529644012, -0.04528781399130821, 0.10034764558076859, -0.04585834592580795, 0.03756450116634369, 0.03441188484430313, -0.05302648991346359, -0.037528976798057556, -0.019891120493412018, 0.05980633571743965, -0.020144721493124962, -0.0076090069487690926, 0.03923364356160164, 0.07101870328187943, -0.046185679733753204, -0.0032272557727992535, -0.0185682512819767, 0.05897831916809082, 0.06925046443939209, 0.04327921196818352, 0.12102214992046356, 0.04847186431288719, -0.06977023184299469, 0.018433209508657455, -0.12381836026906967, -0.060008272528648376, -0.13961555063724518, 0.00604614382609725, -0.01176855992525816, -0.03530408814549446, 0.09121011197566986, -0.08208020776510239, 0.006367252673953772, 0.10547865182161331, 0.020694149658083916, -0.018571313470602036, -2.004777321928941e-08, 0.10603080689907074, -0.0261783916503191, 0.05211591720581055, -0.03850932419300079, -0.027823304757475853, -0.07700178772211075, -0.05181711167097092, 0.088070347905159, -0.002124620834365487, 0.03392216935753822, -0.002062777755782008, 0.05990315601229668, 0.03510688245296478, -0.01820259355008602, -0.026720399037003517, -0.07202670723199844, 0.09444315731525421, 0.043855343014001846, 0.0003516411525197327, 0.03779839724302292, -0.042291853576898575, 0.03904016688466072, -0.06899316608905792, 0.04410313069820404, 0.00422216160222888, 0.07948528975248337, 0.062380336225032806, 0.10233741998672485, -0.028440549969673157, 0.029842793941497803, 0.00636129267513752, -0.07327048480510712, 0.06301724910736084, 0.027881653979420662, -0.05078759789466858, -0.09513936936855316, -0.10105176270008087, 0.04510528966784477, 0.041659120470285416, -0.0005335167516022921, 0.014732744544744492, -0.008372842334210873, -0.020663991570472717, 0.020444577559828758, 0.022666461765766144, 0.005284876562654972, -0.03372683748602867, -0.023881034925580025, 0.007279121782630682, 0.002180115319788456, -0.02984197624027729, 0.019049186259508133, 0.05300066992640495, -0.039596933871507645, 0.03108038753271103, 0.05641339346766472, 0.00340240984223783, -0.030205219984054565, -0.07013392448425293, 0.04318526014685631, 0.030174940824508667, -0.08177315443754196, -0.02030557580292225, 0.01646817848086357]\n"
     ]
    }
   ],
   "source": [
    "prompt = \"My plan will cut the cost in half for most families and help parents\"\n",
    "\n",
    "prompt_embedding = getembeddings(prompt,False)\n",
    "prompt_embedding = prompt_embedding.tolist()\n",
    "print(prompt_embedding)\n",
    "# "
   ]
  },
  {
   "cell_type": "code",
   "execution_count": 33,
   "metadata": {},
   "outputs": [
    {
     "name": "stdout",
     "output_type": "stream",
     "text": [
      "['sociosqu ad litora torquent per conubia nostra, per inceptos himenaeos. Ut ullamcorper\\njusto sapien, in cursus libero viverra eget. Vivamus auctor imperdiet urna, at pulvinar leo\\nposuere laoreet. Suspendisse neque nisl, fringilla at iaculis scelerisque, ornare vel dolor. Ut\\net  pulvinar  nunc.  Pellentesque  fringilla  mollis  efficitur.  Nullam  venenatis  commodo\\nimperdiet. Morbi velit neque, semper quis lorem quis, efficitur dignissim ipsum. Ut ac lorem']\n"
     ]
    }
   ],
   "source": [
    "cursor = connection.cursor()\n",
    "\n",
    "\n",
    "query = \"\"\"\n",
    "SELECT id, text_data, 1 - (embeddings <=> %s::vector) AS similarity\n",
    "FROM embeddings_table\n",
    "ORDER BY similarity DESC\n",
    "LIMIT 1;\n",
    "\"\"\"\n",
    "\n",
    "\n",
    "cursor.execute(query, (prompt_embedding,))\n",
    "\n",
    "results = cursor.fetchall()\n",
    "texts = [text for _, text, _ in results]\n",
    "\n",
    "print(texts)\n"
   ]
  },
  {
   "cell_type": "code",
   "execution_count": null,
   "metadata": {},
   "outputs": [],
   "source": []
  }
 ],
 "metadata": {
  "kernelspec": {
   "display_name": "base",
   "language": "python",
   "name": "python3"
  },
  "language_info": {
   "codemirror_mode": {
    "name": "ipython",
    "version": 3
   },
   "file_extension": ".py",
   "mimetype": "text/x-python",
   "name": "python",
   "nbconvert_exporter": "python",
   "pygments_lexer": "ipython3",
   "version": "3.10.12"
  }
 },
 "nbformat": 4,
 "nbformat_minor": 2
}
